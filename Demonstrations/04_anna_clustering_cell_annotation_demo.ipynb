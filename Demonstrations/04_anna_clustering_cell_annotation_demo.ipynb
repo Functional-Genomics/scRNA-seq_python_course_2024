{
 "cells": [
  {
   "cell_type": "markdown",
   "id": "21215625",
   "metadata": {},
   "source": [
    "# Clustering tutorial "
   ]
  },
  {
   "cell_type": "code",
   "execution_count": null,
   "id": "7754299a",
   "metadata": {},
   "outputs": [],
   "source": [
    "#Import relevant python libraries\n",
    "import scanpy as sc\n",
    "import pandas as pd"
   ]
  },
  {
   "cell_type": "code",
   "execution_count": null,
   "id": "bee15507",
   "metadata": {},
   "outputs": [],
   "source": [
    "# Create output dir for this session\n",
    "import os\n",
    "\n",
    "prefix_output = \"../Data/results/04\"\n",
    "os.mkdirs(prefix_output, exist_ok=True)"
   ]
  },
  {
   "cell_type": "code",
   "execution_count": null,
   "id": "73c10914",
   "metadata": {},
   "outputs": [],
   "source": [
    "pd.set_option('display.max_rows', 6)\n",
    "pd.set_option('display.max_columns', 10)"
   ]
  },
  {
   "cell_type": "code",
   "execution_count": null,
   "id": "7556a592",
   "metadata": {},
   "outputs": [],
   "source": [
    "import matplotlib.pyplot as plt\n",
    "\n",
    "plt.rcParams['figure.dpi'] = 80"
   ]
  },
  {
   "cell_type": "code",
   "execution_count": null,
   "id": "2a743320",
   "metadata": {},
   "outputs": [],
   "source": [
    "#import data"
   ]
  },
  {
   "cell_type": "code",
   "execution_count": null,
   "id": "4b2d8122-150b-4627-8d78-4506505b8954",
   "metadata": {},
   "outputs": [],
   "source": [
    "ad = sc.read_h5ad(\"../Data/Caron_batch_corrected.500.h5ad\")"
   ]
  },
  {
   "cell_type": "code",
   "execution_count": null,
   "id": "733e9274-7fd4-4ef9-99fb-d0e9a877735f",
   "metadata": {},
   "outputs": [],
   "source": [
    "# explore the object"
   ]
  },
  {
   "cell_type": "code",
   "execution_count": null,
   "id": "239ad401-f9f3-4cdf-82ff-cd95170f0864",
   "metadata": {},
   "outputs": [],
   "source": [
    "ad"
   ]
  },
  {
   "cell_type": "code",
   "execution_count": null,
   "id": "1bab35e2-f6be-416e-9146-26c4c281fcad",
   "metadata": {},
   "outputs": [],
   "source": [
    "ad.obs.columns"
   ]
  },
  {
   "cell_type": "code",
   "execution_count": null,
   "id": "1065ea9e-246e-4878-808a-d918a1324670",
   "metadata": {},
   "outputs": [],
   "source": [
    "ad.var.head()"
   ]
  },
  {
   "cell_type": "code",
   "execution_count": null,
   "id": "c35fa609",
   "metadata": {},
   "outputs": [],
   "source": [
    "sc.pl.embedding(ad, basis='X_pca', color='SampleGroup', title='PCA')\n",
    "sc.pl.embedding(ad, basis='X_corrected', color='SampleGroup', title='PCA')"
   ]
  },
  {
   "cell_type": "code",
   "execution_count": null,
   "id": "8d1ffdc7",
   "metadata": {},
   "outputs": [],
   "source": [
    "sc.pl.embedding(ad, basis='X_tsne', color='SampleGroup', title='T-sne')\n",
    "sc.pl.embedding(ad, basis='X_tsne_corrected', color='SampleGroup', title='T-sne')"
   ]
  },
  {
   "cell_type": "code",
   "execution_count": null,
   "id": "aa8489be",
   "metadata": {},
   "outputs": [],
   "source": [
    "sc.pl.embedding(ad, basis='X_umap', color='SampleGroup', title='UMAP')\n",
    "sc.pl.embedding(ad, basis='X_umap_corrected', color='SampleGroup', title='UMAP_corrected')"
   ]
  },
  {
   "cell_type": "code",
   "execution_count": null,
   "id": "9dab9424",
   "metadata": {},
   "outputs": [],
   "source": [
    "sc.pp.neighbors(ad, use_rep=\"X_corrected\", n_neighbors=10, n_pcs=40)"
   ]
  },
  {
   "cell_type": "code",
   "execution_count": null,
   "id": "d4af0548",
   "metadata": {},
   "outputs": [],
   "source": [
    "ad"
   ]
  },
  {
   "cell_type": "code",
   "execution_count": null,
   "id": "cb720812",
   "metadata": {},
   "outputs": [],
   "source": [
    "sc.tl.leiden(ad, resolution=1, key_added=\"leiden_res1\")"
   ]
  },
  {
   "cell_type": "code",
   "execution_count": null,
   "id": "1621d4d9",
   "metadata": {},
   "outputs": [],
   "source": [
    "ad"
   ]
  },
  {
   "cell_type": "code",
   "execution_count": null,
   "id": "47581714",
   "metadata": {},
   "outputs": [],
   "source": [
    "resolutions = [0.3, 0.5, 1.0, 1.5]\n",
    "\n",
    "# Perform Leiden clustering for each resolution and store the results with unique keys\n",
    "for res in resolutions:\n",
    "    key = f\"leiden_res{res}\"\n",
    "    sc.tl.leiden(ad, resolution=res, key_added=key)"
   ]
  },
  {
   "cell_type": "code",
   "execution_count": null,
   "id": "a6bc426e",
   "metadata": {},
   "outputs": [],
   "source": [
    "ad"
   ]
  },
  {
   "cell_type": "code",
   "execution_count": null,
   "id": "49c66ece",
   "metadata": {},
   "outputs": [],
   "source": [
    "sc.tl.umap(ad)"
   ]
  },
  {
   "cell_type": "code",
   "execution_count": null,
   "id": "b3a66ca2",
   "metadata": {},
   "outputs": [],
   "source": [
    "# Visualize the clustering using UMAP\n",
    "\n",
    "sc.pl.umap(ad, color=['leiden_res0.3', 'leiden_res0.5','leiden_res1.0', 'leiden_res1.5'],wspace=0.2,frameon=False)"
   ]
  },
  {
   "cell_type": "code",
   "execution_count": null,
   "id": "ff17762b",
   "metadata": {},
   "outputs": [],
   "source": [
    "sc.pl.umap(ad, color=['leiden_res0.3','SampleGroup',\"SampleName\"],wspace=0.2,frameon=False)"
   ]
  },
  {
   "cell_type": "code",
   "execution_count": null,
   "id": "9262e735",
   "metadata": {},
   "outputs": [],
   "source": [
    "from sklearn.metrics import silhouette_score\n",
    "\n",
    "# Loop through each Leiden resolution that we have computed and calculate the silhouette score\n",
    "for res in [0.3,0.5, 1.0, 1.5]:\n",
    "    key = f\"leiden_res{res}\"\n",
    "    score = silhouette_score(ad.obsm['X_corrected'], ad.obs[key])  \n",
    "    print(f\"Silhouette Score for resolution {res}: {score:.4f}\")"
   ]
  },
  {
   "cell_type": "code",
   "execution_count": null,
   "id": "38b5ffa2",
   "metadata": {},
   "outputs": [],
   "source": [
    "sc.pl.embedding(ad, basis='X_umap', color=['leiden_res0.3','SampleName'], title='UMAP')\n",
    "sc.pl.embedding(ad, basis='X_umap_corrected', color=['leiden_res0.3','SampleName'], title='UMAP_corrected')"
   ]
  },
  {
   "cell_type": "code",
   "execution_count": null,
   "id": "784d853d",
   "metadata": {},
   "outputs": [],
   "source": [
    "for res in [0.3, 0.5, 1.0, 1.5]:\n",
    "    key = f\"leiden_res{res}\"\n",
    "    num_clusters = ad.obs[key].nunique()\n",
    "    print(f\"Number of clusters for resolution {res}: {num_clusters}\")"
   ]
  },
  {
   "cell_type": "code",
   "execution_count": null,
   "id": "5e8769ef",
   "metadata": {},
   "outputs": [],
   "source": [
    "sc.pl.umap(ad, color=['leiden_res0.3','CD79A',\"LYZ\",\"SampleName\"],wspace=0.2,frameon=False)"
   ]
  },
  {
   "cell_type": "code",
   "execution_count": null,
   "id": "6151254e",
   "metadata": {},
   "outputs": [],
   "source": [
    "sc.pp.normalize_total(ad, target_sum=None)\n",
    "sc.pp.log1p(ad)"
   ]
  },
  {
   "cell_type": "code",
   "execution_count": null,
   "id": "a7150681",
   "metadata": {},
   "outputs": [],
   "source": [
    "sc.pl.embedding(ad, basis='X_umap_corrected', color=['leiden_res0.3','CD79A',\"LYZ\",\"SampleName\"], title='UMAP_corrected')"
   ]
  },
  {
   "cell_type": "code",
   "execution_count": null,
   "id": "06c1dcc0",
   "metadata": {},
   "outputs": [],
   "source": [
    "sc.pl.violin(ad, 'LYZ', groupby='leiden_res0.3', color='leiden_res0.3', use_raw=False)"
   ]
  },
  {
   "cell_type": "code",
   "execution_count": null,
   "id": "0ddb9d58",
   "metadata": {},
   "outputs": [],
   "source": [
    "sc.pl.violin(ad, 'CD79A', groupby='leiden_res0.3', color='leiden_res0.3', use_raw=False)"
   ]
  },
  {
   "cell_type": "markdown",
   "id": "f13af882",
   "metadata": {},
   "source": [
    "# Compute marker genes and annotate clusters"
   ]
  },
  {
   "cell_type": "code",
   "execution_count": null,
   "id": "c010ae5f",
   "metadata": {},
   "outputs": [],
   "source": [
    "ad1 = sc.read_h5ad(\"../Data/Caron_clustered.500.h5ad\")"
   ]
  },
  {
   "cell_type": "code",
   "execution_count": null,
   "id": "539ebc92",
   "metadata": {},
   "outputs": [],
   "source": []
  },
  {
   "cell_type": "code",
   "execution_count": null,
   "id": "c4c58498",
   "metadata": {},
   "outputs": [],
   "source": [
    "ad1.X.todense()"
   ]
  },
  {
   "cell_type": "code",
   "execution_count": null,
   "id": "eca0d922",
   "metadata": {},
   "outputs": [],
   "source": [
    "ad1.raw"
   ]
  },
  {
   "cell_type": "code",
   "execution_count": null,
   "id": "96aee626",
   "metadata": {},
   "outputs": [],
   "source": [
    "ad1.obs[\"label\"]"
   ]
  },
  {
   "cell_type": "code",
   "execution_count": null,
   "id": "034246fa",
   "metadata": {},
   "outputs": [],
   "source": [
    "sc.pp.normalize_total(ad1, target_sum=None)\n",
    "sc.pp.log1p(ad1)"
   ]
  },
  {
   "cell_type": "code",
   "execution_count": null,
   "id": "95d19362",
   "metadata": {},
   "outputs": [],
   "source": [
    "sc.pl.embedding(ad1, basis='X_umap_corrected', color=['label','CD79A',\"LYZ\"],legend_loc=\"on data\")"
   ]
  },
  {
   "cell_type": "code",
   "execution_count": null,
   "id": "50ee788b",
   "metadata": {},
   "outputs": [],
   "source": [
    "# visualise monocyte-specific marker\n",
    "sc.pl.embedding(ad1, basis='X_umap_corrected', color=['CST3'])"
   ]
  },
  {
   "cell_type": "code",
   "execution_count": null,
   "id": "4438b96e",
   "metadata": {},
   "outputs": [],
   "source": [
    "sc.tl.rank_genes_groups(ad1, groupby=\"label\", method=\"wilcoxon\",key_added=\"rank_genes_groups_wilcoxon\",)"
   ]
  },
  {
   "cell_type": "code",
   "execution_count": null,
   "id": "b6c2238a",
   "metadata": {},
   "outputs": [],
   "source": [
    "#We can then visualize the top 5 differentially-expressed genes on a dotplot.\n",
    "\n",
    "sc.pl.rank_genes_groups_dotplot(\n",
    "    ad1, groupby=\"label\", standard_scale=\"var\", n_genes=5,key=\"rank_genes_groups_wilcoxon\"\n",
    ")"
   ]
  },
  {
   "cell_type": "code",
   "execution_count": null,
   "id": "60a9dbcb",
   "metadata": {},
   "outputs": [],
   "source": [
    "sc.get.rank_genes_groups_df(ad1, group=\"11\",key=\"rank_genes_groups_wilcoxon\").head(5)"
   ]
  },
  {
   "cell_type": "code",
   "execution_count": null,
   "id": "507e5776",
   "metadata": {},
   "outputs": [],
   "source": [
    "sc.pl.embedding(ad1, basis='X_umap_corrected', color=['label',\"LYZ\"],legend_loc=\"on data\")"
   ]
  },
  {
   "cell_type": "code",
   "execution_count": null,
   "id": "a572b02b",
   "metadata": {},
   "outputs": [],
   "source": [
    "sc.pl.violin(ad1, 'LYZ', groupby='label', color='label', use_raw=False)"
   ]
  },
  {
   "cell_type": "code",
   "execution_count": null,
   "id": "a8701921",
   "metadata": {},
   "outputs": [],
   "source": [
    "# Exercise 1 ----\n",
    "\n",
    "# CD3D suggests cluster 6 and 7 are T cells\n",
    "sc.pl.embedding(ad1, basis='X_umap_corrected', color=['label',\"CD3D\"],legend_loc=\"on data\")\n",
    "sc.pl.violin(ad1, 'CD3D', groupby='label', color='label', use_raw=False)\n",
    "\n",
    "# Confirm this by identifying other genes that differentiate\n",
    "# these two clusters from the rest of the cells.\n",
    "\n",
    "# 1. Extract results for cluster 6 and convert it to data.frame\n",
    "\n",
    "# 2. Visualise the expression of genes that seem interesting from your filters.\n",
    "\n",
    "\n"
   ]
  },
  {
   "cell_type": "code",
   "execution_count": null,
   "id": "ef0933e6",
   "metadata": {},
   "outputs": [],
   "source": [
    "sc.get.rank_genes_groups_df(ad1, group=\"6\",key=\"rank_genes_groups_wilcoxon\").head(5)"
   ]
  },
  {
   "cell_type": "code",
   "execution_count": null,
   "id": "1936aff2",
   "metadata": {},
   "outputs": [],
   "source": [
    "sc.get.rank_genes_groups_df(ad1, group=\"7\",key=\"rank_genes_groups_wilcoxon\").head(5)"
   ]
  },
  {
   "cell_type": "code",
   "execution_count": null,
   "id": "5129065f",
   "metadata": {},
   "outputs": [],
   "source": [
    "dc_cluster_genes = sc.get.rank_genes_groups_df(ad1, group=\"6\",key=\"rank_genes_groups_wilcoxon\").head(10)[\"names\"]\n",
    "sc.pl.embedding(ad1, basis='X_umap_corrected',\n",
    "    color=[*dc_cluster_genes, \"label\"],\n",
    "    legend_loc=\"on data\",\n",
    "    frameon=False,\n",
    "    ncols=3,\n",
    ")"
   ]
  },
  {
   "cell_type": "code",
   "execution_count": null,
   "id": "c6f1e47d",
   "metadata": {},
   "outputs": [],
   "source": [
    "dc_cluster_genes = sc.get.rank_genes_groups_df(ad1, group=\"7\",key=\"rank_genes_groups_wilcoxon\").head(5)[\"names\"]\n",
    "sc.pl.embedding(ad1, basis='X_umap_corrected',\n",
    "    color=[*dc_cluster_genes, \"label\"],\n",
    "    legend_loc=\"on data\",\n",
    "    frameon=False,\n",
    "    ncols=3,\n",
    ")"
   ]
  },
  {
   "cell_type": "code",
   "execution_count": null,
   "id": "78749b25",
   "metadata": {},
   "outputs": [],
   "source": [
    "# Define known cell type-specific genes\n",
    "known_genes = [\n",
    "    \"HBA1\",    # erythrocytes\n",
    "    \"CST3\",    # monocytes\n",
    "    \"CD3E\",    # T cells\n",
    "    \"NKG7\",    # NK T cells\n",
    "    \"CD79A\",   # B cells\n",
    "    \"MS4A1\"    # CD20 B cells\n",
    "]\n",
    "\n",
    "# Ensure all genes are present in ad1.var_names\n",
    "known_genes = [gene for gene in known_genes if gene in ad1.var_names]\n",
    "\n",
    "# Violin plot of cell type-specific genes across clusters\n",
    "sc.pl.violin(ad1, known_genes, groupby='label')"
   ]
  },
  {
   "cell_type": "code",
   "execution_count": null,
   "id": "d631948e",
   "metadata": {},
   "outputs": [],
   "source": [
    "cell_annotation = {\n",
    "    \"1\": \"B (c1)\",\n",
    "    \"2\": \"B (c2)\",\n",
    "    \"3\": \"B (c3)\",\n",
    "    \"4\": \"B (c4)\",\n",
    "    \"5\": \"CD20+ B (c5)\",\n",
    "    \"6\": \"T (c6)\",\n",
    "    \"7\": \"NK T (c7)\",\n",
    "    \"8\": \"Erythrocytes (c8)\",\n",
    "    \"9\": \"Erythrocytes (c9)\",\n",
    "    \"10\": \"Erythrocytes (c10)\",\n",
    "    \"11\": \"Monocytes (c11)\",\n",
    "    \"12\": \"B (c12)\"\n",
    "}\n",
    "\n",
    "# Apply new labels to the 'label' column\n",
    "ad1.obs['cellType'] = ad1.obs['label'].map(cell_annotation)"
   ]
  },
  {
   "cell_type": "code",
   "execution_count": null,
   "id": "95a197f9",
   "metadata": {},
   "outputs": [],
   "source": [
    "sc.pl.embedding(ad1, basis='X_umap_corrected', color=['cellType',\"label\",\"SampleName\"],legend_loc=\"on data\")"
   ]
  },
  {
   "cell_type": "code",
   "execution_count": null,
   "id": "7c2a0869",
   "metadata": {},
   "outputs": [],
   "source": []
  }
 ],
 "metadata": {
  "kernelspec": {
   "display_name": "Python 3 (ipykernel)",
   "language": "python",
   "name": "python3"
  },
  "language_info": {
   "codemirror_mode": {
    "name": "ipython",
    "version": 3
   },
   "file_extension": ".py",
   "mimetype": "text/x-python",
   "name": "python",
   "nbconvert_exporter": "python",
   "pygments_lexer": "ipython3",
   "version": "3.9.7"
  }
 },
 "nbformat": 4,
 "nbformat_minor": 5
}
