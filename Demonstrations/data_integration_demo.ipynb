{
 "cells": [
  {
   "cell_type": "code",
   "execution_count": 1,
   "id": "2792e99c-495f-40a2-8eb1-e7eede8c8822",
   "metadata": {},
   "outputs": [],
   "source": [
    "# package dependencies and suppress unnecessary warning messages \n",
    "from numba.core.errors import NumbaDeprecationWarning, NumbaPendingDeprecationWarning, NumbaWarning\n",
    "import warnings\n",
    "\n",
    "warnings.simplefilter('ignore', category=NumbaDeprecationWarning)\n",
    "warnings.simplefilter('ignore', category=NumbaPendingDeprecationWarning)\n",
    "warnings.simplefilter('ignore', category=NumbaWarning)"
   ]
  },
  {
   "cell_type": "code",
   "execution_count": 2,
   "id": "f23a0cd3-9021-4887-ad0e-95601c77b4ea",
   "metadata": {},
   "outputs": [],
   "source": [
    "import scanpy as sc\n",
    "import anndata as ad\n",
    "import numpy as np\n",
    "import pandas as pd\n",
    "import matplotlib.pyplot as plt\n",
    "import matplotlib"
   ]
  },
  {
   "cell_type": "code",
   "execution_count": 3,
   "id": "4328dad5-eebd-4410-98a2-4a256298a2d5",
   "metadata": {},
   "outputs": [],
   "source": [
    "pd.set_option('display.max_columns', 40)"
   ]
  },
  {
   "cell_type": "code",
   "execution_count": 4,
   "id": "5de985f0-88e8-4770-ae3b-e8fb4a943add",
   "metadata": {},
   "outputs": [],
   "source": [
    "import harmonypy"
   ]
  },
  {
   "cell_type": "code",
   "execution_count": 5,
   "id": "c1035dd1-a766-49af-940a-81e1d1dc2c56",
   "metadata": {},
   "outputs": [],
   "source": [
    "# reproducibility\n",
    "seed = 10\n",
    "np.random.seed(seed)"
   ]
  },
  {
   "cell_type": "code",
   "execution_count": 66,
   "id": "a1821c90-838d-43de-bbd1-0e1aa5e42bbe",
   "metadata": {},
   "outputs": [],
   "source": [
    "adata_1a = sc.read_h5ad(\"data/PBMMC_1a_dimRed.h5ad\")"
   ]
  },
  {
   "cell_type": "code",
   "execution_count": 67,
   "id": "3a1d9dc1-bcf6-4da3-acd9-7dec78cde8ab",
   "metadata": {},
   "outputs": [],
   "source": [
    "adata_1b = sc.read_h5ad(\"data/PBMMC_1b_dimRed.h5ad\")"
   ]
  },
  {
   "cell_type": "code",
   "execution_count": 68,
   "id": "dd9cee98-6d8c-4a92-9261-9e6cacdf9528",
   "metadata": {},
   "outputs": [
    {
     "data": {
      "text/plain": [
       "(846, 24207)"
      ]
     },
     "execution_count": 68,
     "metadata": {},
     "output_type": "execute_result"
    }
   ],
   "source": [
    "adata_1a.shape"
   ]
  },
  {
   "cell_type": "code",
   "execution_count": 69,
   "id": "50860cee-f257-4c93-909b-a682b0500fca",
   "metadata": {},
   "outputs": [
    {
     "data": {
      "text/plain": [
       "(1177, 24016)"
      ]
     },
     "execution_count": 69,
     "metadata": {},
     "output_type": "execute_result"
    }
   ],
   "source": [
    "adata_1b.shape"
   ]
  },
  {
   "cell_type": "code",
   "execution_count": 70,
   "id": "4317c33f-f16a-44f2-a04a-74e2c90f2ed0",
   "metadata": {},
   "outputs": [],
   "source": [
    "adata_1a.var = adata_1a.var.astype(str)\n",
    "adata_1b.var = adata_1b.var.astype(str)"
   ]
  },
  {
   "cell_type": "code",
   "execution_count": 71,
   "id": "6a558941-4f11-4bc5-b4ba-ba253ca7cb13",
   "metadata": {},
   "outputs": [],
   "source": [
    "adata_combined = ad.concat([adata_1a, adata_1b], join = 'inner', merge = 'same', keys=['batch_1', 'batch_2'], index_unique='_', label='batch')"
   ]
  },
  {
   "cell_type": "code",
   "execution_count": 72,
   "id": "bc639ed0-754e-4a77-bb53-c80eed9b7d8b",
   "metadata": {},
   "outputs": [
    {
     "data": {
      "text/plain": [
       "AnnData object with n_obs × n_vars = 2023 × 21749\n",
       "    obs: 'Barcode', 'sizeFactor', 'label', 'batch'\n",
       "    var: 'ID', 'Symbol', 'Chromosome'\n",
       "    obsm: 'X_pca', 'X_tsne', 'X_umap'"
      ]
     },
     "execution_count": 72,
     "metadata": {},
     "output_type": "execute_result"
    }
   ],
   "source": [
    "adata_combined"
   ]
  },
  {
   "cell_type": "code",
   "execution_count": 73,
   "id": "cf65d5a4-43b5-410c-9891-d1c10ce9e280",
   "metadata": {},
   "outputs": [],
   "source": [
    "adata_combined_counts = adata_combined.copy()"
   ]
  },
  {
   "cell_type": "code",
   "execution_count": 74,
   "id": "2dad5331-aadb-4b81-902a-bfa3e668e84b",
   "metadata": {},
   "outputs": [
    {
     "data": {
      "text/plain": [
       "6486.0"
      ]
     },
     "execution_count": 74,
     "metadata": {},
     "output_type": "execute_result"
    }
   ],
   "source": [
    "adata_combined.X.max()"
   ]
  },
  {
   "cell_type": "code",
   "execution_count": 75,
   "id": "1a4b3178-88bc-4374-b1ef-6dc6a73d287e",
   "metadata": {},
   "outputs": [
    {
     "data": {
      "text/html": [
       "<div>\n",
       "<style scoped>\n",
       "    .dataframe tbody tr th:only-of-type {\n",
       "        vertical-align: middle;\n",
       "    }\n",
       "\n",
       "    .dataframe tbody tr th {\n",
       "        vertical-align: top;\n",
       "    }\n",
       "\n",
       "    .dataframe thead th {\n",
       "        text-align: right;\n",
       "    }\n",
       "</style>\n",
       "<table border=\"1\" class=\"dataframe\">\n",
       "  <thead>\n",
       "    <tr style=\"text-align: right;\">\n",
       "      <th></th>\n",
       "      <th>Barcode</th>\n",
       "      <th>sizeFactor</th>\n",
       "      <th>label</th>\n",
       "      <th>batch</th>\n",
       "    </tr>\n",
       "  </thead>\n",
       "  <tbody>\n",
       "    <tr>\n",
       "      <th>AAACCTGCACTTCGAA-1_batch_1</th>\n",
       "      <td>AAACCTGCACTTCGAA-1</td>\n",
       "      <td>0.521288</td>\n",
       "      <td>8</td>\n",
       "      <td>batch_1</td>\n",
       "    </tr>\n",
       "    <tr>\n",
       "      <th>AAACCTGCAGACGCAA-1_batch_1</th>\n",
       "      <td>AAACCTGCAGACGCAA-1</td>\n",
       "      <td>0.568532</td>\n",
       "      <td>9</td>\n",
       "      <td>batch_1</td>\n",
       "    </tr>\n",
       "    <tr>\n",
       "      <th>AAAGATGCATAAAGGT-1_batch_1</th>\n",
       "      <td>AAAGATGCATAAAGGT-1</td>\n",
       "      <td>0.472943</td>\n",
       "      <td>4</td>\n",
       "      <td>batch_1</td>\n",
       "    </tr>\n",
       "    <tr>\n",
       "      <th>AAAGATGTCTCGAGTA-1_batch_1</th>\n",
       "      <td>AAAGATGTCTCGAGTA-1</td>\n",
       "      <td>0.217871</td>\n",
       "      <td>8</td>\n",
       "      <td>batch_1</td>\n",
       "    </tr>\n",
       "    <tr>\n",
       "      <th>AAAGCAACAATACGCT-1_batch_1</th>\n",
       "      <td>AAAGCAACAATACGCT-1</td>\n",
       "      <td>0.414777</td>\n",
       "      <td>14</td>\n",
       "      <td>batch_1</td>\n",
       "    </tr>\n",
       "    <tr>\n",
       "      <th>...</th>\n",
       "      <td>...</td>\n",
       "      <td>...</td>\n",
       "      <td>...</td>\n",
       "      <td>...</td>\n",
       "    </tr>\n",
       "    <tr>\n",
       "      <th>TTTATGCTCGTTGCCT-1_batch_2</th>\n",
       "      <td>TTTATGCTCGTTGCCT-1</td>\n",
       "      <td>0.491334</td>\n",
       "      <td>8</td>\n",
       "      <td>batch_2</td>\n",
       "    </tr>\n",
       "    <tr>\n",
       "      <th>TTTGGTTAGTCTCGGC-1_batch_2</th>\n",
       "      <td>TTTGGTTAGTCTCGGC-1</td>\n",
       "      <td>0.300197</td>\n",
       "      <td>4</td>\n",
       "      <td>batch_2</td>\n",
       "    </tr>\n",
       "    <tr>\n",
       "      <th>TTTGTCAGTAAATGTG-1_batch_2</th>\n",
       "      <td>TTTGTCAGTAAATGTG-1</td>\n",
       "      <td>1.311460</td>\n",
       "      <td>2</td>\n",
       "      <td>batch_2</td>\n",
       "    </tr>\n",
       "    <tr>\n",
       "      <th>TTTGTCAGTACAAGTA-1_batch_2</th>\n",
       "      <td>TTTGTCAGTACAAGTA-1</td>\n",
       "      <td>0.504132</td>\n",
       "      <td>8</td>\n",
       "      <td>batch_2</td>\n",
       "    </tr>\n",
       "    <tr>\n",
       "      <th>TTTGTCATCGCATGAT-1_batch_2</th>\n",
       "      <td>TTTGTCATCGCATGAT-1</td>\n",
       "      <td>0.487319</td>\n",
       "      <td>4</td>\n",
       "      <td>batch_2</td>\n",
       "    </tr>\n",
       "  </tbody>\n",
       "</table>\n",
       "<p>2023 rows × 4 columns</p>\n",
       "</div>"
      ],
      "text/plain": [
       "                                       Barcode  sizeFactor label    batch\n",
       "AAACCTGCACTTCGAA-1_batch_1  AAACCTGCACTTCGAA-1    0.521288     8  batch_1\n",
       "AAACCTGCAGACGCAA-1_batch_1  AAACCTGCAGACGCAA-1    0.568532     9  batch_1\n",
       "AAAGATGCATAAAGGT-1_batch_1  AAAGATGCATAAAGGT-1    0.472943     4  batch_1\n",
       "AAAGATGTCTCGAGTA-1_batch_1  AAAGATGTCTCGAGTA-1    0.217871     8  batch_1\n",
       "AAAGCAACAATACGCT-1_batch_1  AAAGCAACAATACGCT-1    0.414777    14  batch_1\n",
       "...                                        ...         ...   ...      ...\n",
       "TTTATGCTCGTTGCCT-1_batch_2  TTTATGCTCGTTGCCT-1    0.491334     8  batch_2\n",
       "TTTGGTTAGTCTCGGC-1_batch_2  TTTGGTTAGTCTCGGC-1    0.300197     4  batch_2\n",
       "TTTGTCAGTAAATGTG-1_batch_2  TTTGTCAGTAAATGTG-1    1.311460     2  batch_2\n",
       "TTTGTCAGTACAAGTA-1_batch_2  TTTGTCAGTACAAGTA-1    0.504132     8  batch_2\n",
       "TTTGTCATCGCATGAT-1_batch_2  TTTGTCATCGCATGAT-1    0.487319     4  batch_2\n",
       "\n",
       "[2023 rows x 4 columns]"
      ]
     },
     "execution_count": 75,
     "metadata": {},
     "output_type": "execute_result"
    }
   ],
   "source": [
    "adata_combined.obs"
   ]
  },
  {
   "cell_type": "code",
   "execution_count": 76,
   "id": "46222c57-7e1b-46f3-99ab-625c2f31ba2b",
   "metadata": {},
   "outputs": [],
   "source": [
    "batch_key = \"batch\""
   ]
  },
  {
   "cell_type": "code",
   "execution_count": null,
   "id": "4216f5fa-2f50-4a54-8cbd-00553649620e",
   "metadata": {},
   "outputs": [],
   "source": []
  },
  {
   "cell_type": "markdown",
   "id": "e3536d01-9bbf-4de5-8ca6-44809aec204f",
   "metadata": {},
   "source": [
    "## 3.  Data integration\n",
    "### 1. First check unintegrated data"
   ]
  },
  {
   "cell_type": "code",
   "execution_count": 77,
   "id": "6defb293-0fe4-4d1b-a0a5-96387fbf18b5",
   "metadata": {},
   "outputs": [],
   "source": [
    "# standard analysis without considering batch\n",
    "\n",
    "adata_combined.layers[\"counts\"] = adata_combined.X.copy()\n",
    "sc.pp.normalize_total(adata_combined)\n",
    "sc.pp.log1p(adata_combined)\n",
    "adata_combined.layers[\"logcounts\"] = adata_combined.X.copy()"
   ]
  },
  {
   "cell_type": "code",
   "execution_count": 78,
   "id": "6faa7905-8991-4eeb-9049-8498c21419b1",
   "metadata": {},
   "outputs": [
    {
     "data": {
      "image/png": "[encoded data removed]",
      "text/plain": [
       "<Figure size 500x600 with 1 Axes>"
      ]
     },
     "metadata": {},
     "output_type": "display_data"
    }
   ],
   "source": [
    "sc.pp.highly_variable_genes(adata_combined, flavor='seurat')\n",
    "sc.tl.pca(adata_combined)\n",
    "sc.pl.pca_variance_ratio(adata_combined, n_pcs=30, log=False, show=None, save=None)"
   ]
  },
  {
   "cell_type": "code",
   "execution_count": 79,
   "id": "e9584bd1-997e-4226-b990-4c47fea854cf",
   "metadata": {},
   "outputs": [
    {
     "data": {
      "text/plain": [
       "AnnData object with n_obs × n_vars = 2023 × 21749\n",
       "    obs: 'Barcode', 'sizeFactor', 'label', 'batch'\n",
       "    var: 'ID', 'Symbol', 'Chromosome', 'highly_variable', 'means', 'dispersions', 'dispersions_norm'\n",
       "    uns: 'log1p', 'hvg', 'pca', 'neighbors', 'umap'\n",
       "    obsm: 'X_pca', 'X_tsne', 'X_umap'\n",
       "    varm: 'PCs'\n",
       "    layers: 'counts', 'logcounts'\n",
       "    obsp: 'distances', 'connectivities'"
      ]
     },
     "execution_count": 79,
     "metadata": {},
     "output_type": "execute_result"
    }
   ],
   "source": [
    "sc.pp.neighbors(adata_combined, n_pcs=20)\n",
    "sc.tl.umap(adata_combined)\n",
    "adata_combined"
   ]
  },
  {
   "cell_type": "code",
   "execution_count": 80,
   "id": "fa3dd304-b406-4cfa-987a-376ff3ac6b17",
   "metadata": {},
   "outputs": [],
   "source": [
    "matplotlib.rcParams['figure.figsize'] = [3, 6]"
   ]
  },
  {
   "cell_type": "code",
   "execution_count": 81,
   "id": "2f765c58-bc04-46fa-9490-ffd6a0d88fe5",
   "metadata": {
    "scrolled": true
   },
   "outputs": [
    {
     "data": {
      "image/png": "[encoded data removed]",
      "text/plain": [
       "<Figure size 300x600 with 1 Axes>"
      ]
     },
     "metadata": {},
     "output_type": "display_data"
    }
   ],
   "source": [
    "sc.pl.umap(adata_combined, color=[batch_key], wspace=1, ncols=1)"
   ]
  },
  {
   "cell_type": "markdown",
   "id": "d6855328-f8ec-4f74-9031-ca17b223d261",
   "metadata": {},
   "source": [
    "### 2. Batch-aware feature selection"
   ]
  },
  {
   "cell_type": "code",
   "execution_count": 82,
   "id": "c53f59c2-5385-4ab0-9da0-10a06ff73fc2",
   "metadata": {},
   "outputs": [],
   "source": [
    "# add batch_key when selecting HVGs\n",
    "# this will overwrite the previous HVGs-related column values in the .var table and add some new columns\n",
    "sc.pp.highly_variable_genes(\n",
    "    adata_combined, n_top_genes=2000, flavor=\"cell_ranger\", batch_key=batch_key\n",
    ")"
   ]
  },
  {
   "cell_type": "code",
   "execution_count": 83,
   "id": "b13dc88e-c1ac-4e70-aa7c-4e14065adae6",
   "metadata": {},
   "outputs": [
    {
     "data": {
      "text/plain": [
       "AnnData object with n_obs × n_vars = 2023 × 21749\n",
       "    obs: 'Barcode', 'sizeFactor', 'label', 'batch'\n",
       "    var: 'ID', 'Symbol', 'Chromosome', 'highly_variable', 'means', 'dispersions', 'dispersions_norm', 'highly_variable_nbatches', 'highly_variable_intersection'\n",
       "    uns: 'log1p', 'hvg', 'pca', 'neighbors', 'umap', 'batch_colors'\n",
       "    obsm: 'X_pca', 'X_tsne', 'X_umap'\n",
       "    varm: 'PCs'\n",
       "    layers: 'counts', 'logcounts'\n",
       "    obsp: 'distances', 'connectivities'"
      ]
     },
     "execution_count": 83,
     "metadata": {},
     "output_type": "execute_result"
    }
   ],
   "source": [
    "adata_combined"
   ]
  },
  {
   "cell_type": "code",
   "execution_count": 84,
   "id": "9c63700b-0dfa-4b67-a234-246396d715d7",
   "metadata": {},
   "outputs": [
    {
     "data": {
      "text/html": [
       "<div>\n",
       "<style scoped>\n",
       "    .dataframe tbody tr th:only-of-type {\n",
       "        vertical-align: middle;\n",
       "    }\n",
       "\n",
       "    .dataframe tbody tr th {\n",
       "        vertical-align: top;\n",
       "    }\n",
       "\n",
       "    .dataframe thead th {\n",
       "        text-align: right;\n",
       "    }\n",
       "</style>\n",
       "<table border=\"1\" class=\"dataframe\">\n",
       "  <thead>\n",
       "    <tr style=\"text-align: right;\">\n",
       "      <th></th>\n",
       "      <th>ID</th>\n",
       "      <th>Symbol</th>\n",
       "      <th>Chromosome</th>\n",
       "      <th>highly_variable</th>\n",
       "      <th>means</th>\n",
       "      <th>dispersions</th>\n",
       "      <th>dispersions_norm</th>\n",
       "      <th>highly_variable_nbatches</th>\n",
       "      <th>highly_variable_intersection</th>\n",
       "    </tr>\n",
       "  </thead>\n",
       "  <tbody>\n",
       "    <tr>\n",
       "      <th>ENSG00000238009</th>\n",
       "      <td>ENSG00000238009</td>\n",
       "      <td>ENSG00000238009</td>\n",
       "      <td>chr1</td>\n",
       "      <td>False</td>\n",
       "      <td>0.001109</td>\n",
       "      <td>0.596376</td>\n",
       "      <td>0.131413</td>\n",
       "      <td>0</td>\n",
       "      <td>False</td>\n",
       "    </tr>\n",
       "    <tr>\n",
       "      <th>ENSG00000241860</th>\n",
       "      <td>ENSG00000241860</td>\n",
       "      <td>ENSG00000241860</td>\n",
       "      <td>chr1</td>\n",
       "      <td>True</td>\n",
       "      <td>0.002073</td>\n",
       "      <td>0.825203</td>\n",
       "      <td>1.389519</td>\n",
       "      <td>1</td>\n",
       "      <td>False</td>\n",
       "    </tr>\n",
       "    <tr>\n",
       "      <th>ENSG00000237491</th>\n",
       "      <td>ENSG00000237491</td>\n",
       "      <td>LINC01409</td>\n",
       "      <td>chr1</td>\n",
       "      <td>False</td>\n",
       "      <td>0.023695</td>\n",
       "      <td>0.729940</td>\n",
       "      <td>0.248438</td>\n",
       "      <td>0</td>\n",
       "      <td>False</td>\n",
       "    </tr>\n",
       "    <tr>\n",
       "      <th>ENSG00000225880</th>\n",
       "      <td>ENSG00000225880</td>\n",
       "      <td>LINC00115</td>\n",
       "      <td>chr1</td>\n",
       "      <td>False</td>\n",
       "      <td>0.002493</td>\n",
       "      <td>0.814119</td>\n",
       "      <td>0.528333</td>\n",
       "      <td>0</td>\n",
       "      <td>False</td>\n",
       "    </tr>\n",
       "    <tr>\n",
       "      <th>ENSG00000228794</th>\n",
       "      <td>ENSG00000228794</td>\n",
       "      <td>LINC01128</td>\n",
       "      <td>chr1</td>\n",
       "      <td>False</td>\n",
       "      <td>0.010685</td>\n",
       "      <td>0.603632</td>\n",
       "      <td>-1.155363</td>\n",
       "      <td>0</td>\n",
       "      <td>False</td>\n",
       "    </tr>\n",
       "    <tr>\n",
       "      <th>...</th>\n",
       "      <td>...</td>\n",
       "      <td>...</td>\n",
       "      <td>...</td>\n",
       "      <td>...</td>\n",
       "      <td>...</td>\n",
       "      <td>...</td>\n",
       "      <td>...</td>\n",
       "      <td>...</td>\n",
       "      <td>...</td>\n",
       "    </tr>\n",
       "    <tr>\n",
       "      <th>ENSG00000276256</th>\n",
       "      <td>ENSG00000276256</td>\n",
       "      <td>ENSG00000276256</td>\n",
       "      <td>GL000195.1</td>\n",
       "      <td>False</td>\n",
       "      <td>0.002689</td>\n",
       "      <td>0.343913</td>\n",
       "      <td>-1.814459</td>\n",
       "      <td>0</td>\n",
       "      <td>False</td>\n",
       "    </tr>\n",
       "    <tr>\n",
       "      <th>ENSG00000273748</th>\n",
       "      <td>ENSG00000273748</td>\n",
       "      <td>ENSG00000273748</td>\n",
       "      <td>GL000219.1</td>\n",
       "      <td>False</td>\n",
       "      <td>0.035194</td>\n",
       "      <td>0.764593</td>\n",
       "      <td>0.561928</td>\n",
       "      <td>0</td>\n",
       "      <td>False</td>\n",
       "    </tr>\n",
       "    <tr>\n",
       "      <th>ENSG00000271254</th>\n",
       "      <td>ENSG00000271254</td>\n",
       "      <td>ENSG00000271254</td>\n",
       "      <td>KI270711.1</td>\n",
       "      <td>False</td>\n",
       "      <td>0.017971</td>\n",
       "      <td>0.809606</td>\n",
       "      <td>0.911032</td>\n",
       "      <td>0</td>\n",
       "      <td>False</td>\n",
       "    </tr>\n",
       "    <tr>\n",
       "      <th>ENSG00000276017</th>\n",
       "      <td>ENSG00000276017</td>\n",
       "      <td>ENSG00000276017</td>\n",
       "      <td>KI270734.1</td>\n",
       "      <td>False</td>\n",
       "      <td>0.000256</td>\n",
       "      <td>0.273243</td>\n",
       "      <td>-0.454976</td>\n",
       "      <td>0</td>\n",
       "      <td>False</td>\n",
       "    </tr>\n",
       "    <tr>\n",
       "      <th>ENSG00000278817</th>\n",
       "      <td>ENSG00000278817</td>\n",
       "      <td>ENSG00000278817</td>\n",
       "      <td>KI270734.1</td>\n",
       "      <td>False</td>\n",
       "      <td>0.001554</td>\n",
       "      <td>0.250463</td>\n",
       "      <td>-1.578686</td>\n",
       "      <td>0</td>\n",
       "      <td>False</td>\n",
       "    </tr>\n",
       "  </tbody>\n",
       "</table>\n",
       "<p>21749 rows × 9 columns</p>\n",
       "</div>"
      ],
      "text/plain": [
       "                              ID           Symbol  Chromosome  \\\n",
       "ENSG00000238009  ENSG00000238009  ENSG00000238009        chr1   \n",
       "ENSG00000241860  ENSG00000241860  ENSG00000241860        chr1   \n",
       "ENSG00000237491  ENSG00000237491        LINC01409        chr1   \n",
       "ENSG00000225880  ENSG00000225880        LINC00115        chr1   \n",
       "ENSG00000228794  ENSG00000228794        LINC01128        chr1   \n",
       "...                          ...              ...         ...   \n",
       "ENSG00000276256  ENSG00000276256  ENSG00000276256  GL000195.1   \n",
       "ENSG00000273748  ENSG00000273748  ENSG00000273748  GL000219.1   \n",
       "ENSG00000271254  ENSG00000271254  ENSG00000271254  KI270711.1   \n",
       "ENSG00000276017  ENSG00000276017  ENSG00000276017  KI270734.1   \n",
       "ENSG00000278817  ENSG00000278817  ENSG00000278817  KI270734.1   \n",
       "\n",
       "                 highly_variable     means  dispersions  dispersions_norm  \\\n",
       "ENSG00000238009            False  0.001109     0.596376          0.131413   \n",
       "ENSG00000241860             True  0.002073     0.825203          1.389519   \n",
       "ENSG00000237491            False  0.023695     0.729940          0.248438   \n",
       "ENSG00000225880            False  0.002493     0.814119          0.528333   \n",
       "ENSG00000228794            False  0.010685     0.603632         -1.155363   \n",
       "...                          ...       ...          ...               ...   \n",
       "ENSG00000276256            False  0.002689     0.343913         -1.814459   \n",
       "ENSG00000273748            False  0.035194     0.764593          0.561928   \n",
       "ENSG00000271254            False  0.017971     0.809606          0.911032   \n",
       "ENSG00000276017            False  0.000256     0.273243         -0.454976   \n",
       "ENSG00000278817            False  0.001554     0.250463         -1.578686   \n",
       "\n",
       "                 highly_variable_nbatches  highly_variable_intersection  \n",
       "ENSG00000238009                         0                         False  \n",
       "ENSG00000241860                         1                         False  \n",
       "ENSG00000237491                         0                         False  \n",
       "ENSG00000225880                         0                         False  \n",
       "ENSG00000228794                         0                         False  \n",
       "...                                   ...                           ...  \n",
       "ENSG00000276256                         0                         False  \n",
       "ENSG00000273748                         0                         False  \n",
       "ENSG00000271254                         0                         False  \n",
       "ENSG00000276017                         0                         False  \n",
       "ENSG00000278817                         0                         False  \n",
       "\n",
       "[21749 rows x 9 columns]"
      ]
     },
     "execution_count": 84,
     "metadata": {},
     "output_type": "execute_result"
    }
   ],
   "source": [
    "# Note the highly_variable_nbatches and the highly_variable_intersection column\n",
    "adata_combined.var"
   ]
  },
  {
   "cell_type": "code",
   "execution_count": 85,
   "id": "96eeba7a-5df3-4627-ba82-485e924c8c4c",
   "metadata": {},
   "outputs": [
    {
     "data": {
      "text/plain": [
       "highly_variable_nbatches\n",
       "0    18430\n",
       "1     2638\n",
       "2      681\n",
       "Name: count, dtype: int64"
      ]
     },
     "execution_count": 85,
     "metadata": {},
     "output_type": "execute_result"
    },
    {
     "data": {
      "image/png": "[encoded data removed]",
      "text/plain": [
       "<Figure size 300x600 with 1 Axes>"
      ]
     },
     "metadata": {},
     "output_type": "display_data"
    }
   ],
   "source": [
    "# see how many batches the gene is highly variable in\n",
    "\n",
    "n_batches = adata_combined.var[\"highly_variable_nbatches\"].value_counts()\n",
    "ax = n_batches.plot(kind=\"bar\")\n",
    "n_batches"
   ]
  },
  {
   "cell_type": "markdown",
   "id": "3fd1a8a1-d917-4a37-acfd-ddcc125c85fe",
   "metadata": {
    "tags": []
   },
   "source": [
    "### 3. example: integration with harmony"
   ]
  },
  {
   "cell_type": "code",
   "execution_count": 86,
   "id": "1aabedd2-1b5c-4e5e-9d6e-0a316c89a47c",
   "metadata": {},
   "outputs": [],
   "source": [
    "# move the unintegrated umap\n",
    "adata_combined.obsm['X_umapraw'] = adata_combined.obsm['X_umap']"
   ]
  },
  {
   "cell_type": "code",
   "execution_count": 87,
   "id": "5cedf621-683d-432a-b8e8-6bf14b8ada31",
   "metadata": {},
   "outputs": [
    {
     "name": "stderr",
     "output_type": "stream",
     "text": [
      "2024-08-23 13:07:56,733 - harmonypy - INFO - Computing initial centroids with sklearn.KMeans...\n",
      "2024-08-23 13:07:57,796 - harmonypy - INFO - sklearn.KMeans initialization complete.\n",
      "2024-08-23 13:07:57,801 - harmonypy - INFO - Iteration 1 of 10\n",
      "2024-08-23 13:07:57,964 - harmonypy - INFO - Iteration 2 of 10\n",
      "2024-08-23 13:07:58,125 - harmonypy - INFO - Iteration 3 of 10\n",
      "2024-08-23 13:07:58,288 - harmonypy - INFO - Iteration 4 of 10\n",
      "2024-08-23 13:07:58,358 - harmonypy - INFO - Iteration 5 of 10\n",
      "2024-08-23 13:07:58,414 - harmonypy - INFO - Iteration 6 of 10\n",
      "2024-08-23 13:07:58,469 - harmonypy - INFO - Converged after 6 iterations\n"
     ]
    }
   ],
   "source": [
    "# run harmony via scanpy external API\n",
    "sc.external.pp.harmony_integrate(adata_combined, key=batch_key, basis = 'X_pca')"
   ]
  },
  {
   "cell_type": "code",
   "execution_count": 88,
   "id": "4014aacd-0acb-4b61-bb0e-8ec4a2e03f4f",
   "metadata": {},
   "outputs": [
    {
     "data": {
      "text/plain": [
       "AnnData object with n_obs × n_vars = 2023 × 21749\n",
       "    obs: 'Barcode', 'sizeFactor', 'label', 'batch'\n",
       "    var: 'ID', 'Symbol', 'Chromosome', 'highly_variable', 'means', 'dispersions', 'dispersions_norm', 'highly_variable_nbatches', 'highly_variable_intersection'\n",
       "    uns: 'log1p', 'hvg', 'pca', 'neighbors', 'umap', 'batch_colors'\n",
       "    obsm: 'X_pca', 'X_tsne', 'X_umap', 'X_umapraw', 'X_pca_harmony'\n",
       "    varm: 'PCs'\n",
       "    layers: 'counts', 'logcounts'\n",
       "    obsp: 'distances', 'connectivities'"
      ]
     },
     "execution_count": 88,
     "metadata": {},
     "output_type": "execute_result"
    }
   ],
   "source": [
    "# Note that a new embedding, which we named X_pca_harmony is generated\n",
    "adata_combined"
   ]
  },
  {
   "cell_type": "code",
   "execution_count": 89,
   "id": "1daa2079-48bb-47a7-b5a0-87594c9663d4",
   "metadata": {},
   "outputs": [],
   "source": [
    "# recalculate neighbours and umap based on harmony corrected embedding\n",
    "\n",
    "sc.pp.neighbors(adata_combined, use_rep='X_pca_harmony', key_added = 'harmony', n_neighbors=15, n_pcs=40)\n",
    "sc.tl.umap(adata_combined, neighbors_key = 'harmony')"
   ]
  },
  {
   "cell_type": "code",
   "execution_count": 90,
   "id": "96f89a63-67da-44ca-87da-fdfa44448803",
   "metadata": {},
   "outputs": [],
   "source": [
    "matplotlib.rcParams['figure.figsize'] = [5, 6]"
   ]
  },
  {
   "cell_type": "code",
   "execution_count": 91,
   "id": "50ea4ecd-ef07-4061-8d13-5b0f0eec70e2",
   "metadata": {},
   "outputs": [
    {
     "data": {
      "image/png": "[encoded data removed]",
      "text/plain": [
       "<Figure size 500x600 with 1 Axes>"
      ]
     },
     "metadata": {},
     "output_type": "display_data"
    }
   ],
   "source": [
    "sc.pl.umap(adata_combined, color=[batch_key], ncols=1)"
   ]
  },
  {
   "cell_type": "code",
   "execution_count": 92,
   "id": "ea16496d-e86a-4ef7-ac63-4de0718f121d",
   "metadata": {},
   "outputs": [],
   "source": [
    "# move harmony corrected umap\n",
    "adata_combined.obsm['X_umapharmony'] = adata_combined.obsm['X_umap']"
   ]
  },
  {
   "cell_type": "markdown",
   "id": "e5c7d7c6-4fb7-4ac5-ac8a-b16098f08ba3",
   "metadata": {},
   "source": [
    "#### SCVI integration"
   ]
  },
  {
   "cell_type": "code",
   "execution_count": 93,
   "id": "86e2836b-abc1-4810-bb53-4735f9fae786",
   "metadata": {},
   "outputs": [],
   "source": [
    "import scvi"
   ]
  },
  {
   "cell_type": "code",
   "execution_count": 96,
   "id": "5f2bf623-9fc8-4e29-895f-02e4916d695f",
   "metadata": {},
   "outputs": [],
   "source": [
    " adata_combined_counts.layers['counts'] =  adata_combined_counts.X.copy()"
   ]
  },
  {
   "cell_type": "code",
   "execution_count": 97,
   "id": "b3b22659-3de9-42bf-84e6-ea5c3a9b916e",
   "metadata": {},
   "outputs": [],
   "source": [
    "## batch-aware HVG selection on counts is required for scVI"
   ]
  },
  {
   "cell_type": "code",
   "execution_count": 98,
   "id": "527bf3b9-7155-4464-8c8c-0342ffcaf721",
   "metadata": {},
   "outputs": [],
   "source": [
    "sc.pp.highly_variable_genes(\n",
    "    adata_combined_counts,\n",
    "    flavor=\"seurat_v3\",\n",
    "    n_top_genes=2000,\n",
    "    layer=\"counts\",\n",
    "    batch_key=\"batch\",\n",
    "    subset=True,\n",
    ")"
   ]
  },
  {
   "cell_type": "code",
   "execution_count": 99,
   "id": "341b2ae7-0ecf-4391-9598-b53ba1493ab1",
   "metadata": {},
   "outputs": [],
   "source": [
    "scvi.model.SCVI.setup_anndata(adata_combined, layer=\"counts\", batch_key=\"batch\")"
   ]
  },
  {
   "cell_type": "code",
   "execution_count": 102,
   "id": "90eadeb7-c613-4655-8793-ab8c2d632080",
   "metadata": {},
   "outputs": [],
   "source": [
    "model = scvi.model.SCVI(adata_combined, n_layers=2, n_latent=30, gene_likelihood=\"nb\")"
   ]
  },
  {
   "cell_type": "code",
   "execution_count": 103,
   "id": "bf2371c0-ede8-4612-b85a-a412e7a4aa3d",
   "metadata": {},
   "outputs": [
    {
     "name": "stderr",
     "output_type": "stream",
     "text": [
      "GPU available: False, used: False\n",
      "TPU available: False, using: 0 TPU cores\n",
      "IPU available: False, using: 0 IPUs\n",
      "HPU available: False, using: 0 HPUs\n"
     ]
    },
    {
     "name": "stdout",
     "output_type": "stream",
     "text": [
      "Epoch 400/400: 100%|████████████████████████████████████████████████████████████████████████████████████████████████████████████████████████████| 400/400 [18:41<00:00,  2.75s/it, v_num=1, train_loss_step=4.65e+3, train_loss_epoch=4.13e+3]"
     ]
    },
    {
     "name": "stderr",
     "output_type": "stream",
     "text": [
      "`Trainer.fit` stopped: `max_epochs=400` reached.\n"
     ]
    },
    {
     "name": "stdout",
     "output_type": "stream",
     "text": [
      "Epoch 400/400: 100%|████████████████████████████████████████████████████████████████████████████████████████████████████████████████████████████| 400/400 [18:41<00:00,  2.80s/it, v_num=1, train_loss_step=4.65e+3, train_loss_epoch=4.13e+3]\n"
     ]
    }
   ],
   "source": [
    "model.train()"
   ]
  },
  {
   "cell_type": "code",
   "execution_count": 104,
   "id": "378362d0-2aac-4963-844a-cb420c72eaff",
   "metadata": {},
   "outputs": [],
   "source": [
    "SCVI_LATENT_KEY = \"X_scVI\"\n",
    "adata_combined.obsm[SCVI_LATENT_KEY] = model.get_latent_representation()"
   ]
  },
  {
   "cell_type": "code",
   "execution_count": 106,
   "id": "1c5f2e9b-d9b6-4a5e-8823-167bf9d9074a",
   "metadata": {},
   "outputs": [
    {
     "name": "stderr",
     "output_type": "stream",
     "text": [
      "/tmp/ipykernel_4126107/4179760100.py:2: FutureWarning: In the future, the default backend for leiden will be igraph instead of leidenalg.\n",
      "\n",
      " To achieve the future defaults please pass: flavor=\"igraph\" and n_iterations=2.  directed must also be False to work with igraph's implementation.\n",
      "  sc.tl.leiden(adata_combined)\n"
     ]
    }
   ],
   "source": [
    "sc.pp.neighbors(adata_combined, use_rep=SCVI_LATENT_KEY)\n",
    "sc.tl.leiden(adata_combined)"
   ]
  },
  {
   "cell_type": "code",
   "execution_count": 107,
   "id": "c53c44c8-fbc7-4a3b-ab06-b2218bf147fc",
   "metadata": {},
   "outputs": [
    {
     "ename": "ImportError",
     "evalue": "Please install pymde package via `pip install pymde`",
     "output_type": "error",
     "traceback": [
      "\u001b[0;31m---------------------------------------------------------------------------\u001b[0m",
      "\u001b[0;31mModuleNotFoundError\u001b[0m                       Traceback (most recent call last)",
      "File \u001b[0;32m/opt/conda/lib/python3.10/site-packages/scvi/model/utils/_mde.py:68\u001b[0m, in \u001b[0;36mmde\u001b[0;34m(data, accelerator, device, seed, **kwargs)\u001b[0m\n\u001b[1;32m     67\u001b[0m \u001b[38;5;28;01mtry\u001b[39;00m:\n\u001b[0;32m---> 68\u001b[0m     \u001b[38;5;28;01mimport\u001b[39;00m \u001b[38;5;21;01mpymde\u001b[39;00m\n\u001b[1;32m     69\u001b[0m \u001b[38;5;28;01mexcept\u001b[39;00m \u001b[38;5;167;01mImportError\u001b[39;00m \u001b[38;5;28;01mas\u001b[39;00m err:\n",
      "\u001b[0;31mModuleNotFoundError\u001b[0m: No module named 'pymde'",
      "\nThe above exception was the direct cause of the following exception:\n",
      "\u001b[0;31mImportError\u001b[0m                               Traceback (most recent call last)",
      "Cell \u001b[0;32mIn[107], line 2\u001b[0m\n\u001b[1;32m      1\u001b[0m SCVI_MDE_KEY \u001b[38;5;241m=\u001b[39m \u001b[38;5;124m\"\u001b[39m\u001b[38;5;124mX_scVI_MDE\u001b[39m\u001b[38;5;124m\"\u001b[39m\n\u001b[0;32m----> 2\u001b[0m adata_combined\u001b[38;5;241m.\u001b[39mobsm[SCVI_MDE_KEY] \u001b[38;5;241m=\u001b[39m \u001b[43mscvi\u001b[49m\u001b[38;5;241;43m.\u001b[39;49m\u001b[43mmodel\u001b[49m\u001b[38;5;241;43m.\u001b[39;49m\u001b[43mutils\u001b[49m\u001b[38;5;241;43m.\u001b[39;49m\u001b[43mmde\u001b[49m\u001b[43m(\u001b[49m\u001b[43madata_combined\u001b[49m\u001b[38;5;241;43m.\u001b[39;49m\u001b[43mobsm\u001b[49m\u001b[43m[\u001b[49m\u001b[43mSCVI_LATENT_KEY\u001b[49m\u001b[43m]\u001b[49m\u001b[43m)\u001b[49m\n\u001b[1;32m      4\u001b[0m sc\u001b[38;5;241m.\u001b[39mpl\u001b[38;5;241m.\u001b[39membedding(\n\u001b[1;32m      5\u001b[0m     adata_combined,\n\u001b[1;32m      6\u001b[0m     basis\u001b[38;5;241m=\u001b[39mSCVI_MDE_KEY,\n\u001b[0;32m   (...)\u001b[0m\n\u001b[1;32m      9\u001b[0m     ncols\u001b[38;5;241m=\u001b[39m\u001b[38;5;241m1\u001b[39m,\n\u001b[1;32m     10\u001b[0m )\n",
      "File \u001b[0;32m/opt/conda/lib/python3.10/site-packages/scvi/model/utils/_mde.py:70\u001b[0m, in \u001b[0;36mmde\u001b[0;34m(data, accelerator, device, seed, **kwargs)\u001b[0m\n\u001b[1;32m     68\u001b[0m     \u001b[38;5;28;01mimport\u001b[39;00m \u001b[38;5;21;01mpymde\u001b[39;00m\n\u001b[1;32m     69\u001b[0m \u001b[38;5;28;01mexcept\u001b[39;00m \u001b[38;5;167;01mImportError\u001b[39;00m \u001b[38;5;28;01mas\u001b[39;00m err:\n\u001b[0;32m---> 70\u001b[0m     \u001b[38;5;28;01mraise\u001b[39;00m \u001b[38;5;167;01mImportError\u001b[39;00m(\u001b[38;5;124m\"\u001b[39m\u001b[38;5;124mPlease install pymde package via `pip install pymde`\u001b[39m\u001b[38;5;124m\"\u001b[39m) \u001b[38;5;28;01mfrom\u001b[39;00m \u001b[38;5;21;01merr\u001b[39;00m\n\u001b[1;32m     72\u001b[0m \u001b[38;5;28;01mif\u001b[39;00m seed \u001b[38;5;129;01mis\u001b[39;00m \u001b[38;5;28;01mNone\u001b[39;00m \u001b[38;5;129;01mand\u001b[39;00m settings\u001b[38;5;241m.\u001b[39mseed \u001b[38;5;129;01mis\u001b[39;00m \u001b[38;5;129;01mnot\u001b[39;00m \u001b[38;5;28;01mNone\u001b[39;00m:\n\u001b[1;32m     73\u001b[0m     seed \u001b[38;5;241m=\u001b[39m settings\u001b[38;5;241m.\u001b[39mseed\n",
      "\u001b[0;31mImportError\u001b[0m: Please install pymde package via `pip install pymde`"
     ]
    }
   ],
   "source": [
    "SCVI_MDE_KEY = \"X_scVI_MDE\"\n",
    "adata_combined.obsm[SCVI_MDE_KEY] = scvi.model.utils.mde(adata_combined.obsm[SCVI_LATENT_KEY])\n",
    "\n",
    "sc.pl.embedding(\n",
    "    adata_combined,\n",
    "    basis=SCVI_MDE_KEY,\n",
    "    color=[\"batch\", \"leiden\"],\n",
    "    frameon=False,\n",
    "    ncols=1,\n",
    ")"
   ]
  },
  {
   "cell_type": "code",
   "execution_count": null,
   "id": "52967316-2f30-4511-a1b9-42283d1df7c1",
   "metadata": {},
   "outputs": [],
   "source": []
  }
 ],
 "metadata": {
  "kernelspec": {
   "display_name": "Python 3 (ipykernel)",
   "language": "python",
   "name": "python3"
  },
  "language_info": {
   "codemirror_mode": {
    "name": "ipython",
    "version": 3
   },
   "file_extension": ".py",
   "mimetype": "text/x-python",
   "name": "python",
   "nbconvert_exporter": "python",
   "pygments_lexer": "ipython3",
   "version": "3.10.10"
  }
 },
 "nbformat": 4,
 "nbformat_minor": 5
}
