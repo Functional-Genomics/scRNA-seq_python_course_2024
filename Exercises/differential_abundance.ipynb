{
 "cells": [
  {
   "cell_type": "markdown",
   "id": "d462aae4-5275-4138-b8b4-e41f6a8aa7a6",
   "metadata": {},
   "source": [
    "# Differential abundance analysis with Milo"
   ]
  },
  {
   "cell_type": "markdown",
   "id": "3372c64e-b4fd-4bd0-bd77-23209c1520bc",
   "metadata": {},
   "source": [
    "In this exercise, we will perform differential abundance analysis to identify changes in cell composition between healthy (PBMMC) and leukemia (ETV6-RUNX1) samples. Rather then performing the analysis per cell type, we will instead use Milo to perform the analysis at the neighbourhood level."
   ]
  },
  {
   "cell_type": "markdown",
   "id": "82f648e7-4cff-4dbe-8257-44db1fcf6d60",
   "metadata": {},
   "source": [
    "## Setup"
   ]
  },
  {
   "cell_type": "code",
   "execution_count": null,
   "id": "0d55007c-3ba7-4b44-a538-8d47c94028ca",
   "metadata": {},
   "outputs": [],
   "source": [
    "import matplotlib\n",
    "import matplotlib.pyplot as plt\n",
    "import pertpy as pt\n",
    "import scanpy as sc\n",
    "\n",
    "plt.rcParams[\"figure.figsize\"] = (7, 7)\n",
    "import numpy as np\n",
    "\n",
    "sc.settings.verbosity = 3"
   ]
  },
  {
   "cell_type": "code",
   "execution_count": null,
   "id": "4eda5bc3-ffcc-4489-ab6c-89272de8900c",
   "metadata": {},
   "outputs": [],
   "source": [
    "adata = sc.read_h5ad('../Data/Caron_clustered.PBMMCandETV6RUNX1.h5ad')"
   ]
  },
  {
   "cell_type": "code",
   "execution_count": null,
   "id": "b5b71166-b448-49ad-ad8a-e39f9f78d579",
   "metadata": {},
   "outputs": [],
   "source": [
    "adata"
   ]
  },
  {
   "cell_type": "code",
   "execution_count": null,
   "id": "e69aeef6-81bc-4f85-aa39-1af398da2d9a",
   "metadata": {},
   "outputs": [],
   "source": [
    "sc.pl.embedding(adata, \"X_umap_corrected\", color=[\"label\"], legend_loc=\"on data\")"
   ]
  },
  {
   "cell_type": "markdown",
   "id": "d95054da-6d16-46a6-8041-102d4b4cb411",
   "metadata": {},
   "source": [
    "## Differential abundance analysis\n",
    "\n",
    "We will now perform the differential abundance analysis using Milo. The analysis consists of the following steps:\n",
    "\n",
    "1. Building k-nearest neighbour (kNN) graph\n",
    "2. Sampling representative neighbourhoods in the graph (for computational efficiency)\n",
    "3. Testing for differential abundance of conditions in all neighbourhoods\n",
    "4. Accounting for multiple hypothesis testing using a weighted FDR procedure that accounts for the overlap of neighbourhoods"
   ]
  },
  {
   "cell_type": "code",
   "execution_count": null,
   "id": "df27570e-803c-405a-84f2-dc88e8c2aa5e",
   "metadata": {},
   "outputs": [],
   "source": [
    "## Initialize object for Milo analysis\n",
    "milo = pt.tl.Milo()\n",
    "mdata = milo.load(adata)"
   ]
  },
  {
   "cell_type": "code",
   "execution_count": null,
   "id": "3aaaf8ca-51b5-4be4-8284-f1606cdb3dbb",
   "metadata": {},
   "outputs": [],
   "source": [
    "mdata"
   ]
  },
  {
   "cell_type": "code",
   "execution_count": null,
   "id": "2b0f4e67-d1bb-47ae-890f-467b19cb3e97",
   "metadata": {},
   "outputs": [],
   "source": [
    "# Create the kNN graph\n",
    "sc.pp.neighbors(mdata[\"rna\"], use_rep=\"X_corrected\", n_neighbors=15)"
   ]
  },
  {
   "cell_type": "code",
   "execution_count": null,
   "id": "a8a0c020-d1fa-4080-a4c8-28ac536bef53",
   "metadata": {},
   "outputs": [],
   "source": [
    "# Sample representative neighbourhoods\n",
    "milo.make_nhoods(mdata[\"rna\"], prop=0.1)"
   ]
  },
  {
   "cell_type": "code",
   "execution_count": null,
   "id": "8114186c-a64d-445f-9d6b-4c096570cbd5",
   "metadata": {},
   "outputs": [],
   "source": [
    "mdata[\"rna\"].obsm[\"nhoods\"]"
   ]
  },
  {
   "cell_type": "code",
   "execution_count": null,
   "id": "cccabe1e-6ad6-4be6-a416-4badcfa1118c",
   "metadata": {},
   "outputs": [],
   "source": [
    "mdata[\"rna\"][mdata[\"rna\"].obs[\"nhood_ixs_refined\"] != 0].obs[[\"nhood_ixs_refined\", \"nhood_kth_distance\"]]"
   ]
  },
  {
   "cell_type": "markdown",
   "id": "77a64719-946b-4557-8692-49350577d07f",
   "metadata": {},
   "source": [
    "Let's check the size of the neighbourhood formed as one of the QC metric. We ideally want the most of the neighbourhood to not be too small or too big. The ideal result, according to the authors of Milo, is to have an average neighbourhood size of 5 x N samples (5 x 7 = 35 in our case)."
   ]
  },
  {
   "cell_type": "code",
   "execution_count": null,
   "id": "02ac86f5-b524-4605-9c08-39bb796ff296",
   "metadata": {},
   "outputs": [],
   "source": [
    "nhood_size = np.array(mdata[\"rna\"].obsm[\"nhoods\"].sum(0)).ravel()\n",
    "plt.hist(nhood_size, bins=100)\n",
    "plt.xlabel(\"# cells in nhood\")\n",
    "plt.ylabel(\"# nhoods\");"
   ]
  },
  {
   "cell_type": "code",
   "execution_count": null,
   "id": "96e5df75-e23a-4006-a9b6-747b53725f59",
   "metadata": {},
   "outputs": [],
   "source": [
    "# Count cells within each neighbourhood\n",
    "mdata = milo.count_nhoods(mdata, sample_col=\"SampleName\")"
   ]
  },
  {
   "cell_type": "code",
   "execution_count": null,
   "id": "1aa7b75b-82fb-429d-9557-eef24b0a3b31",
   "metadata": {},
   "outputs": [],
   "source": [
    "mdata"
   ]
  },
  {
   "cell_type": "code",
   "execution_count": null,
   "id": "b2e1d93c-cf2c-4063-a5ea-a3f76e389bd3",
   "metadata": {},
   "outputs": [],
   "source": [
    "mdata[\"milo\"]"
   ]
  },
  {
   "cell_type": "code",
   "execution_count": null,
   "id": "592861db-c9b0-43cd-b23c-ac512e8d26d4",
   "metadata": {},
   "outputs": [],
   "source": [
    "# Test for DA between condition\n",
    "milo.da_nhoods(mdata, design=\"~SampleGroup\")"
   ]
  },
  {
   "cell_type": "code",
   "execution_count": null,
   "id": "a8fd5a08-31f8-4348-8555-99c3eec1ca31",
   "metadata": {},
   "outputs": [],
   "source": [
    "mdata[\"milo\"].obs"
   ]
  },
  {
   "cell_type": "code",
   "execution_count": null,
   "id": "407e9284-858a-4be3-88b1-2a9f4420e892",
   "metadata": {},
   "outputs": [],
   "source": [
    "mdata[\"milo\"].var"
   ]
  },
  {
   "cell_type": "markdown",
   "id": "890fd1a1-6c86-4d49-a6fe-9f1adf71b1b7",
   "metadata": {},
   "source": [
    "Let's inspect the result of the DA analysis visually using some diagnostic plots. We first check that the distribution of the uncorrected P-value behaves properly. We also visualise the test result using volcano plot to see how many neighbourhood shows differential abundance.  "
   ]
  },
  {
   "cell_type": "code",
   "execution_count": null,
   "id": "445f57a2-e83e-4b10-8b72-474fb08a0360",
   "metadata": {},
   "outputs": [],
   "source": [
    "plt.hist(mdata[\"milo\"].var.PValue, bins=50)\n",
    "plt.xlabel(\"P-Vals\")"
   ]
  },
  {
   "cell_type": "code",
   "execution_count": null,
   "id": "708a4f56-7d5b-4d57-88dc-05ba9ee544d7",
   "metadata": {},
   "outputs": [],
   "source": [
    "plt.plot(mdata[\"milo\"].var.logFC, -np.log10(mdata[\"milo\"].var.SpatialFDR), \".\")\n",
    "plt.xlabel(\"log-Fold Change\")\n",
    "plt.ylabel(\"-log10(Spatial FDR)\")\n",
    "plt.axhline(y=1)"
   ]
  },
  {
   "cell_type": "markdown",
   "id": "d04b09cb-0f39-429a-86bb-2cd8cb202ef3",
   "metadata": {},
   "source": [
    "We can also visualise this on the embedding on the single cells, by first building a neighbourhood graph to superimpose on the single cell embedding. In this figure, each node represent neighbourhood, coloured by the DA log-fold change."
   ]
  },
  {
   "cell_type": "code",
   "execution_count": null,
   "id": "1c6f2135-56ae-4cb7-8175-3969ec171e8a",
   "metadata": {},
   "outputs": [],
   "source": [
    "milo.build_nhood_graph(mdata, 'X_umap_corrected')"
   ]
  },
  {
   "cell_type": "code",
   "execution_count": null,
   "id": "95e7fe12-df0f-4549-bac1-b6e14e375ebf",
   "metadata": {},
   "outputs": [],
   "source": [
    "plt.rcParams[\"figure.figsize\"] = [7, 7]\n",
    "milo.plot_nhood_graph(\n",
    "    mdata,\n",
    "    alpha=0.1,  ## SpatialFDR level (1%)\n",
    "    min_size=1,  ## Size of smallest dot\n",
    ")"
   ]
  },
  {
   "cell_type": "code",
   "execution_count": null,
   "id": "20297dd1-478e-46d2-abf7-f83bc0d8d730",
   "metadata": {},
   "outputs": [],
   "source": [
    "# Assign cell type label to each neighbourhood by most common label\n",
    "milo.annotate_nhoods(mdata, anno_col=\"label\")"
   ]
  },
  {
   "cell_type": "code",
   "execution_count": null,
   "id": "0e175267-d893-4c85-8e7f-3d8b85bfe11f",
   "metadata": {},
   "outputs": [],
   "source": [
    "mdata[\"milo\"].var"
   ]
  },
  {
   "cell_type": "markdown",
   "id": "a9dadd2e-4da9-46b9-87d4-005b4b377854",
   "metadata": {},
   "source": [
    "Let's check to make sure that the neighbours are mostly homogenous and filter out neigbourhood which are a mix of cell types."
   ]
  },
  {
   "cell_type": "code",
   "execution_count": null,
   "id": "07374c4c-4e39-40b3-9f77-89a2d029f03c",
   "metadata": {},
   "outputs": [],
   "source": [
    "plt.hist(mdata[\"milo\"].var[\"nhood_annotation_frac\"], bins=30)\n",
    "plt.xlabel(\"celltype fraction\")"
   ]
  },
  {
   "cell_type": "code",
   "execution_count": null,
   "id": "e21717d5-4716-4446-ba42-ef9d3b1b3ae3",
   "metadata": {
    "scrolled": true
   },
   "outputs": [],
   "source": [
    "mdata[\"milo\"].var[\"nhood_annotation\"] = mdata[\"milo\"].var[\"nhood_annotation\"].cat.add_categories('Mixed')"
   ]
  },
  {
   "cell_type": "code",
   "execution_count": null,
   "id": "e605a19f-c45e-4629-b864-9b1184c975af",
   "metadata": {},
   "outputs": [],
   "source": [
    "mdata[\"milo\"].var.loc[mdata[\"milo\"].var[\"nhood_annotation_frac\"] < 0.7, \"nhood_annotation\"] = \"Mixed\""
   ]
  },
  {
   "cell_type": "code",
   "execution_count": null,
   "id": "8df1ac17-ca9f-425d-9611-76941e059046",
   "metadata": {},
   "outputs": [],
   "source": [
    "mdata[\"milo\"].var"
   ]
  },
  {
   "cell_type": "markdown",
   "id": "1cfc5ba4-6717-4b56-a7ca-a30d21c0376e",
   "metadata": {},
   "source": [
    "We can now visualise the distribution of DA fold change in the different cell types."
   ]
  },
  {
   "cell_type": "code",
   "execution_count": null,
   "id": "dd362bac-d2cd-4fe6-a5cd-2394687086c6",
   "metadata": {},
   "outputs": [],
   "source": [
    "milo.plot_da_beeswarm(mdata, alpha=0.1)"
   ]
  },
  {
   "cell_type": "markdown",
   "id": "2f41ada2-a8a5-4f83-a23d-393769c8fc5c",
   "metadata": {},
   "source": [
    "---\n",
    "\n",
    "## Optional exercises\n",
    "\n",
    "1. Explore the DA result further by following the guide from [pertpy](https://pertpy.readthedocs.io/en/stable/tutorials/notebooks/milo.html#Visualize-result-by-celltype)."
   ]
  }
 ],
 "metadata": {
  "kernelspec": {
   "display_name": "Python 3 (ipykernel)",
   "language": "python",
   "name": "python3"
  },
  "language_info": {
   "codemirror_mode": {
    "name": "ipython",
    "version": 3
   },
   "file_extension": ".py",
   "mimetype": "text/x-python",
   "name": "python",
   "nbconvert_exporter": "python",
   "pygments_lexer": "ipython3",
   "version": "3.11.9"
  }
 },
 "nbformat": 4,
 "nbformat_minor": 5
}
