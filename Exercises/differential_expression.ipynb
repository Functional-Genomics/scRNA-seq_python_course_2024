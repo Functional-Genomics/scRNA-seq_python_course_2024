{
 "cells": [
  {
   "cell_type": "markdown",
   "id": "ed0b2387-1cec-4d15-93c7-818d1b837c5a",
   "metadata": {},
   "source": [
    "# Differential expression analysis with edgeR"
   ]
  },
  {
   "cell_type": "markdown",
   "id": "50e55acf-d423-478a-b88d-567df5200529",
   "metadata": {},
   "source": [
    "In this notebook, we will perform differential expression analysis to test for changes in expression between healthy (PBMMC) and leukemia (ETV6-RUNX1) samples for cells of the same 'type' present in both condition."
   ]
  },
  {
   "cell_type": "markdown",
   "id": "c3ad9649-cdcc-44ed-91dc-5e67be2f7d8b",
   "metadata": {},
   "source": [
    "## Setup"
   ]
  },
  {
   "cell_type": "code",
   "execution_count": null,
   "id": "a7efafc3-59c1-4323-a79d-551140ef847d",
   "metadata": {},
   "outputs": [],
   "source": [
    "import decoupler as dc\n",
    "import pertpy as pt\n",
    "import scanpy as sc\n",
    "import numpy as np\n",
    "import pandas as pd\n",
    "import matplotlib.pyplot as plt\n",
    "import seaborn as sns"
   ]
  },
  {
   "cell_type": "code",
   "execution_count": null,
   "id": "007aa241-0c01-4734-b944-6848d550f022",
   "metadata": {},
   "outputs": [],
   "source": [
    "adata = sc.read_h5ad('../Data/Caron_clustered.PBMMCandETV6RUNX1.h5ad')"
   ]
  },
  {
   "cell_type": "code",
   "execution_count": null,
   "id": "37c278ac-e405-47da-813c-2e45ced12d86",
   "metadata": {},
   "outputs": [],
   "source": [
    "adata"
   ]
  },
  {
   "cell_type": "code",
   "execution_count": null,
   "id": "30c3b55e-9c53-4178-88ea-3df35a4b786b",
   "metadata": {},
   "outputs": [],
   "source": [
    "sc.pl.embedding(adata, \"X_umap_corrected\", color=[\"label\"], legend_loc=\"on data\")"
   ]
  },
  {
   "cell_type": "code",
   "execution_count": null,
   "id": "daf4d988-9c4f-45f2-ab29-40770db8dc28",
   "metadata": {},
   "outputs": [],
   "source": [
    "adata.obs[[\"label\", \"SampleName\"]].value_counts()"
   ]
  },
  {
   "cell_type": "markdown",
   "id": "e11e3557-fecd-44e0-a2ff-c829dbb72c70",
   "metadata": {},
   "source": [
    "## Create pseudobulk\n",
    "\n",
    "We want to create an aggregate count (pseudobulk) for each sample and cell type (label) combinations. However, we watn to remove pseudobulk 'samples' with very low number of cells (e.g. <20)."
   ]
  },
  {
   "cell_type": "code",
   "execution_count": null,
   "id": "09e0ed97-4c21-412d-9e6f-535ea2ca4f4d",
   "metadata": {},
   "outputs": [],
   "source": [
    "pdata = dc.get_pseudobulk(\n",
    "    adata, sample_col=\"SampleName\", groups_col=\"label\", mode=\"sum\", min_cells=20\n",
    ")"
   ]
  },
  {
   "cell_type": "code",
   "execution_count": null,
   "id": "f84388bb-f5d4-4eaa-b9d4-14f3019bcefb",
   "metadata": {},
   "outputs": [],
   "source": [
    "pdata"
   ]
  },
  {
   "cell_type": "code",
   "execution_count": null,
   "id": "5acba669-6276-4393-befe-b1e52af0b245",
   "metadata": {},
   "outputs": [],
   "source": [
    "pdata.obs"
   ]
  },
  {
   "cell_type": "code",
   "execution_count": null,
   "id": "88251196-f92b-4ea5-8a09-f94a100be9aa",
   "metadata": {},
   "outputs": [],
   "source": [
    "pdata.X"
   ]
  },
  {
   "cell_type": "markdown",
   "id": "cbdab7fe-2760-43fa-b564-9e2e3910cf3f",
   "metadata": {},
   "source": [
    "## Differential expression analysis\n",
    "\n",
    "We will now run the differential expression analysis for one of the cell type - B (c1) - to show the steps involved in the analysis."
   ]
  },
  {
   "cell_type": "code",
   "execution_count": null,
   "id": "d16a907c-f8f4-4baf-a209-9f1973751bd7",
   "metadata": {},
   "outputs": [],
   "source": [
    "def filter_by_expression(adata, group):\n",
    "    \"\"\"\n",
    "    Filter lowly expressed genes using edgeR filterByExpr function.\n",
    "\n",
    "    :adata: anndata object\n",
    "    :group: column name in the anndata obs layer containing sample grouping\n",
    "    \n",
    "    :return: anndata object with lowly expressed genes removed\n",
    "    \"\"\"\n",
    "    from rpy2.robjects.packages import importr\n",
    "    import rpy2.robjects as ro\n",
    "    import rpy2.robjects.numpy2ri\n",
    "    \n",
    "    rpy2.robjects.numpy2ri.activate()\n",
    "    edger = importr(\"edgeR\")\n",
    "    keep = edger.filterByExpr(adata.X.T, ro.FactorVector(adata.obs[group]))\n",
    "    return adata[:, list(keep)]"
   ]
  },
  {
   "cell_type": "code",
   "execution_count": null,
   "id": "39de6613-dae4-4961-8282-becc8ccb3e2b",
   "metadata": {},
   "outputs": [],
   "source": [
    "b_c1_pdata = pdata[pdata.obs['label'] == \"B (c1)\"].copy()\n",
    "b_c1_pdata"
   ]
  },
  {
   "cell_type": "code",
   "execution_count": null,
   "id": "3f09ba75-4eb5-4e8c-b7e2-e8822754ad37",
   "metadata": {},
   "outputs": [],
   "source": [
    "b_c1_pdata.obs"
   ]
  },
  {
   "cell_type": "markdown",
   "id": "76fb7a70-bb07-4860-84d9-fe40b7433039",
   "metadata": {},
   "source": [
    "We first filter for lowly expressed genes using the helper function we set up previously."
   ]
  },
  {
   "cell_type": "code",
   "execution_count": null,
   "id": "c3640bc1-bdb0-407c-bd84-522058a34057",
   "metadata": {},
   "outputs": [],
   "source": [
    "b_c1_pdata = filter_by_expression(b_c1_pdata, 'SampleGroup')"
   ]
  },
  {
   "cell_type": "code",
   "execution_count": null,
   "id": "ff640b07-f49a-4e99-84d3-82c78b8ac48c",
   "metadata": {},
   "outputs": [],
   "source": [
    "b_c1_pdata"
   ]
  },
  {
   "cell_type": "markdown",
   "id": "f6104fb9-5a76-42b9-a0a0-74791e577359",
   "metadata": {},
   "source": [
    "We now set up the edgeR object and specify the design of our differential expression analysis. In this case, since we want to compare between the condition, we use `~SampleGroup`. We then fit the linear model. "
   ]
  },
  {
   "cell_type": "code",
   "execution_count": null,
   "id": "70dab3d6-395b-437f-902e-f8a135f730a4",
   "metadata": {},
   "outputs": [],
   "source": [
    "b_c1_edgr = pt.tl.EdgeR(b_c1_pdata, design=\"~SampleGroup\")"
   ]
  },
  {
   "cell_type": "code",
   "execution_count": null,
   "id": "a5c8660b-af61-472c-8fc7-be21620cba36",
   "metadata": {},
   "outputs": [],
   "source": [
    "b_c1_edgr.fit(robust=True)"
   ]
  },
  {
   "cell_type": "code",
   "execution_count": null,
   "id": "72ec0d17-9bfd-4062-80d6-fa44911eb897",
   "metadata": {},
   "outputs": [],
   "source": [
    "b_c1_pdata.layers['counts'] = b_c1_pdata.X.copy()\n",
    "sc.pp.normalize_total(b_c1_pdata)\n",
    "sc.pp.log1p(b_c1_pdata)\n",
    "sc.pp.scale(b_c1_pdata, max_value=10)\n",
    "sc.tl.pca(b_c1_pdata)\n",
    "sc.pl.pca(b_c1_pdata, color='SampleGroup', palette={'PBMMC': 'tomato', 'ETV6-RUNX1': 'steelblue'}, size=100)"
   ]
  },
  {
   "cell_type": "markdown",
   "id": "5d2555f7-f75b-4d24-98ab-78d0841cd5ce",
   "metadata": {},
   "source": [
    "To get the result of the differential expression analysis, we use the `test_contrast` function and pass the comparison we want to perform as it's argument. We can then visualise the result in a volcano plot."
   ]
  },
  {
   "cell_type": "code",
   "execution_count": null,
   "id": "375cadac-ca39-42ce-9499-0a4614b2fc54",
   "metadata": {},
   "outputs": [],
   "source": [
    "b_c1_res_df = b_c1_edgr.test_contrasts(b_c1_edgr.contrast(column=\"SampleGroup\", baseline=\"ETV6-RUNX1\", group_to_compare=\"PBMMC\"))\n",
    "b_c1_res_df.index = b_c1_res_df[\"variable\"]"
   ]
  },
  {
   "cell_type": "code",
   "execution_count": null,
   "id": "4e4e62cc-b89d-4d2e-bbad-2e288f4d28c8",
   "metadata": {},
   "outputs": [],
   "source": [
    "b_c1_res_df"
   ]
  },
  {
   "cell_type": "code",
   "execution_count": null,
   "id": "144c2275-5631-46bd-b9f0-414a8db89b25",
   "metadata": {},
   "outputs": [],
   "source": [
    "b_c1_edgr.plot_volcano(b_c1_res_df, pval_thresh=0.05, log2fc_thresh=0)"
   ]
  },
  {
   "cell_type": "markdown",
   "id": "b8939c1b-2624-4b3e-9fa1-7eb21b4789f1",
   "metadata": {},
   "source": [
    "### Optional: Gene set analysis\n",
    "\n",
    "Now that we have the differentially expressed gene lists, we can use this to identify genes which changes between conditions. While we can do this manually, we can also use further downstream analysis, such as gene set analysis, to 'summarise' the differentially expressed genes into gene sets/modules which are differentially expressed."
   ]
  },
  {
   "cell_type": "code",
   "execution_count": null,
   "id": "ae63ddc9-7411-4ef9-b2b4-b0750ae1bbbe",
   "metadata": {},
   "outputs": [],
   "source": [
    "msigdb = dc.get_resource('MSigDB')\n",
    "msigdb"
   ]
  },
  {
   "cell_type": "code",
   "execution_count": null,
   "id": "497ce754-60b7-412a-a490-4cd9c58af760",
   "metadata": {},
   "outputs": [],
   "source": [
    "# Filter by hallmark\n",
    "msigdb = msigdb[msigdb['collection']=='hallmark']\n",
    "\n",
    "# Remove duplicated entries\n",
    "msigdb = msigdb[~msigdb.duplicated(['geneset', 'genesymbol'])]\n",
    "\n",
    "# Rename\n",
    "msigdb.loc[:, 'geneset'] = [name.split('HALLMARK_')[1] for name in msigdb['geneset']]\n",
    "\n",
    "msigdb"
   ]
  },
  {
   "cell_type": "code",
   "execution_count": null,
   "id": "6ecd8d23-f979-4a77-818f-7d3e6b319e9b",
   "metadata": {},
   "outputs": [],
   "source": [
    "# Run ora\n",
    "enr_pvals = dc.get_ora_df(\n",
    "    df=b_c1_res_df[(b_c1_res_df['adj_p_value'] < 0.05) & (b_c1_res_df['log_fc'] > 0)].index,\n",
    "    net=msigdb,\n",
    "    source='geneset',\n",
    "    target='genesymbol'\n",
    ")\n",
    "\n",
    "enr_pvals.head()"
   ]
  },
  {
   "cell_type": "code",
   "execution_count": null,
   "id": "fcb322ae-4083-4318-9860-69bf27298b04",
   "metadata": {},
   "outputs": [],
   "source": [
    "dc.plot_dotplot(\n",
    "    enr_pvals.sort_values('Combined score', ascending=False).head(15),\n",
    "    x='Combined score',\n",
    "    y='Term',\n",
    "    s='Odds ratio',\n",
    "    c='FDR p-value',\n",
    "    scale=0.5,\n",
    "    figsize=(3, 9)\n",
    ")"
   ]
  },
  {
   "cell_type": "markdown",
   "id": "326d577b-e9f8-4b5a-83e5-8aca88554033",
   "metadata": {},
   "source": [
    "## Putting it all together\n",
    "\n",
    "Now that we have laid out the process of differential expression analysis for one of the cell type, we can repeat the same process for the remaining cell types in our dataset.\n",
    "\n",
    "For convenience, we create a function that loops over all the cell types and perform the same analysis as above."
   ]
  },
  {
   "cell_type": "code",
   "execution_count": null,
   "id": "e7fd50a2-ef23-450f-9f12-a46925819e1c",
   "metadata": {},
   "outputs": [],
   "source": [
    "def pseudo_bulk_dge(adata, label, design, group, column, baseline, group_to_compare):\n",
    "    \"\"\"\n",
    "    Perform pseudobulk differential expression analysis across each cell types within labels.\n",
    "\n",
    "    :adata: anndata object\n",
    "    :label: column name in the anndata obs layer containing cell grouping\n",
    "    :design: a formula to be used to construct design matrix\n",
    "    :group: column name in the anndata obs layer containing sample grouping\n",
    "    :column: column name in the design formular argument to specify the comparison to perform\n",
    "    :baseline: label present in the column argument to set as baseline for comparison\n",
    "    :group_to_compare: label present in the column argument to compare against the baseline\n",
    "    \n",
    "    :return: a dictionary of dgeResults object containing the edgeR object and de_result table for each cell types within labels\n",
    "    \"\"\"\n",
    "    from dataclasses import dataclass\n",
    "\n",
    "    @dataclass\n",
    "    class dgeResults:\n",
    "        edger_object: pt.tools.EdgeR\n",
    "        de_result: pd.core.frame.DataFrame\n",
    "\n",
    "        def plot_volcano(self, **kwargs):\n",
    "            self.edger_object.plot_volcano(self.de_result, **kwargs)\n",
    "    \n",
    "    results = {}\n",
    "    for l in adata.obs[label].unique():\n",
    "        try:\n",
    "            subset = adata[adata.obs[label] == l]\n",
    "            subset = filter_by_expression(subset, group)\n",
    "            edgr = pt.tl.EdgeR(subset, design=design)\n",
    "            edgr.fit(robust=True)\n",
    "            result = edgr.test_contrasts(edgr.contrast(column=column, baseline=baseline, group_to_compare=group_to_compare))\n",
    "            result.index = result[\"variable\"]\n",
    "            results[l] = dgeResults(edgr, result)\n",
    "        except Exception as e:\n",
    "            print(f\"Invalid comparison for {l}: {e}\")\n",
    "    return results"
   ]
  },
  {
   "cell_type": "code",
   "execution_count": null,
   "id": "45fc8986-eed4-4b19-bca2-12337240d548",
   "metadata": {},
   "outputs": [],
   "source": [
    "de_results = pseudo_bulk_dge(pdata, 'label', '~SampleGroup', 'SampleGroup', 'SampleGroup', 'ETV6-RUNX1', 'PBMMC')"
   ]
  },
  {
   "cell_type": "code",
   "execution_count": null,
   "id": "9e35415d-b577-4c88-90fb-ebadbbd537de",
   "metadata": {},
   "outputs": [],
   "source": [
    "def decide_tests_per_label(de_results, threshold):\n",
    "    \"\"\"\n",
    "    Summarise result of the differential expression analysis.\n",
    "\n",
    "    :de_results: a dictionary of dgeResults object containing the edgeR object and de_result table for each cell types within labels\n",
    "    :threshold: FDR adjusted p-value threshold to consider genes as significant\n",
    "    \n",
    "    :return: a dataframe containing the number of genes of each DE status (column) in each label (row)\n",
    "    \"\"\"\n",
    "    \n",
    "    def de_dir(row):\n",
    "        if row['adj_p_value'] < threshold:\n",
    "            return 1 if row['log_fc'] > 0 else -1\n",
    "        else:\n",
    "            return 0\n",
    "    return pd.DataFrame({label: res.de_result.apply(de_dir, axis=1) for label, res in de_results.items()})"
   ]
  },
  {
   "cell_type": "code",
   "execution_count": null,
   "id": "315091dd-e038-4734-8516-bf931b1beb52",
   "metadata": {},
   "outputs": [],
   "source": [
    "is_de = decide_tests_per_label(de_results, 0.05)"
   ]
  },
  {
   "cell_type": "code",
   "execution_count": null,
   "id": "390bb2e9-d21f-49e7-a88b-dfea3c642351",
   "metadata": {},
   "outputs": [],
   "source": [
    "is_de.apply(lambda x:x.value_counts()).T"
   ]
  },
  {
   "cell_type": "markdown",
   "id": "abcc97b7-a7b8-4295-9e07-b05bfb80c26b",
   "metadata": {},
   "source": [
    "Let's confirm that we get the same result as before in the B (c1) cells."
   ]
  },
  {
   "cell_type": "code",
   "execution_count": null,
   "id": "49106949-83a2-4811-a36b-ef845254f236",
   "metadata": {},
   "outputs": [],
   "source": [
    "de_results[\"B (c1)\"].de_result"
   ]
  },
  {
   "cell_type": "code",
   "execution_count": null,
   "id": "e18daf17-ca51-4550-b1ac-94cef23773da",
   "metadata": {},
   "outputs": [],
   "source": [
    "de_results[\"B (c1)\"].plot_volcano(pval_thresh=0.05, log2fc_thresh=0)"
   ]
  },
  {
   "cell_type": "markdown",
   "id": "820f4bd8-9be1-4496-8ccc-fac4d063a39b",
   "metadata": {},
   "source": [
    "From the volcano plot, we can see that HTR1F gene is highly upregulated in B cells. Let's look at the expression of this genes across all the other cell types."
   ]
  },
  {
   "cell_type": "code",
   "execution_count": null,
   "id": "f5adff74-166e-41a9-ad42-6a6de2d150db",
   "metadata": {},
   "outputs": [],
   "source": [
    "pdata.layers[\"counts\"] = pdata.X.copy()\n",
    "sc.pp.normalize_total(pdata)\n",
    "sc.pp.log1p(pdata)"
   ]
  },
  {
   "cell_type": "code",
   "execution_count": null,
   "id": "1add69c0-d8e6-4267-920b-2f0c5909613c",
   "metadata": {},
   "outputs": [],
   "source": [
    "plot_data = pdata.obs.copy()\n",
    "plot_data[\"logcounts\"] = pdata[:,\"HTR1F\"].X.flatten().tolist()\n",
    "sns.catplot(data=plot_data, x=\"SampleGroup\", y=\"logcounts\", \n",
    "            palette=['tomato', 'steelblue'], col=\"label\", col_wrap=5,\n",
    "            height=2, width=3)"
   ]
  },
  {
   "cell_type": "markdown",
   "id": "83b1bf8e-455d-483f-b0e6-48d0e7347b04",
   "metadata": {},
   "source": [
    "We can see that this gene is also upregulated in leukemic cells in other B cell types."
   ]
  },
  {
   "cell_type": "markdown",
   "id": "f649c2ca-c1e8-45ad-bf11-bcb649aed8e7",
   "metadata": {},
   "source": [
    "----\n",
    "\n",
    "### Optional exercises\n",
    "\n",
    "1. Explore the DE result for other cell types and run some gene set analysis.\n",
    "2. Create a function to automatically perform gene set analysis for each label in the cell types.\n"
   ]
  }
 ],
 "metadata": {
  "kernelspec": {
   "display_name": "Python 3 (ipykernel)",
   "language": "python",
   "name": "python3"
  },
  "language_info": {
   "codemirror_mode": {
    "name": "ipython",
    "version": 3
   },
   "file_extension": ".py",
   "mimetype": "text/x-python",
   "name": "python",
   "nbconvert_exporter": "python",
   "pygments_lexer": "ipython3",
   "version": "3.11.9"
  }
 },
 "nbformat": 4,
 "nbformat_minor": 5
}
